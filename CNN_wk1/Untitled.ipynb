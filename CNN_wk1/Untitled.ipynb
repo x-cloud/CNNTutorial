{
 "cells": [
  {
   "cell_type": "code",
   "execution_count": 3,
   "metadata": {},
   "outputs": [
    {
     "name": "stdout",
     "output_type": "stream",
     "text": [
      "Convolution model - Application - v1.ipynb\n",
      "Convolution model - Step by Step - v1.ipynb\n",
      "Convolution model - Step by Step - v2.ipynb\n",
      "Untitled.ipynb\n",
      "__pycache__/\n",
      "cnn_utils.py\n",
      "currdir.tar.gz\n",
      "datasets/\n",
      "datasets/train_signs.h5\n",
      "datasets/test_signs.h5\n",
      "images/\n",
      "images/PAD.png\n",
      "images/model.png\n",
      "images/conv_nn.png\n",
      "images/Convolution_schematic.gif\n",
      "images/vert_horiz_kiank.png\n",
      "images/conv_kiank.mp4\n",
      "images/max_pool.png\n",
      "images/conv1.png\n",
      "images/ave-pool.png\n",
      "images/thumbs_up.jpg\n",
      "images/ave_pool1.png\n",
      "images/conv.png\n",
      "images/a_pool.png\n",
      "images/max_pool1.png\n",
      "images/SIGNS.png\n",
      "images/average_pool.png\n"
     ]
    }
   ],
   "source": [
    "!tar cvhfz CNN_wk1.tar.gz *"
   ]
  }
 ],
 "metadata": {
  "kernelspec": {
   "display_name": "Python 3",
   "language": "python",
   "name": "python3"
  },
  "language_info": {
   "codemirror_mode": {
    "name": "ipython",
    "version": 3
   },
   "file_extension": ".py",
   "mimetype": "text/x-python",
   "name": "python",
   "nbconvert_exporter": "python",
   "pygments_lexer": "ipython3",
   "version": "3.6.0"
  }
 },
 "nbformat": 4,
 "nbformat_minor": 2
}
